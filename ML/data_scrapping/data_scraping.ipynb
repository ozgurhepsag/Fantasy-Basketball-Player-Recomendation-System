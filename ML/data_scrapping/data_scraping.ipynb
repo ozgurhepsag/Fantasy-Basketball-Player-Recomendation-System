{
 "cells": [
  {
   "cell_type": "markdown",
   "metadata": {
    "ExecuteTime": {
     "end_time": "2018-03-31T05:53:12.252482Z",
     "start_time": "2018-03-31T05:53:12.248119Z"
    }
   },
   "source": [
    "### Data Scraping\n",
    "Scrape data for each season for boxscores and DraftKings fantasy salary information from Basketball-Reference and RotoGuru. Check existing files and create directories automatically."
   ]
  },
  {
   "cell_type": "code",
   "execution_count": 1,
   "metadata": {
    "ExecuteTime": {
     "end_time": "2019-05-25T20:27:06.987259Z",
     "start_time": "2019-05-25T20:27:06.289012Z"
    }
   },
   "outputs": [],
   "source": [
    "import os\n",
    "import re\n",
    "import time\n",
    "import glob\n",
    "\n",
    "import numpy as np\n",
    "import pandas as pd\n",
    "from urllib.request import urlopen\n",
    "from bs4 import BeautifulSoup\n",
    "from tqdm import tqdm_notebook as tqdm\n",
    "\n",
    "from constants import DATA_DIR, SEASON_DATES, SECONDS_SLEEP"
   ]
  },
  {
   "cell_type": "code",
   "execution_count": 41,
   "metadata": {
    "ExecuteTime": {
     "end_time": "2019-05-25T20:37:52.027084Z",
     "start_time": "2019-05-25T20:37:51.983762Z"
    },
    "code_folding": []
   },
   "outputs": [],
   "source": [
    "class DataScraper():\n",
    "    # Scraping Historical Game Data from Basketball-Reference.com\n",
    "    def get_boxscores(self, season, date_list):\n",
    "        url_parent = \"https://www.basketball-reference.com\"\n",
    "        url_boxscore = \"https://www.basketball-reference.com/boxscores/?month={month}&day={day}&year={year}\"\n",
    "\n",
    "        print(\"Scraping boxscores from the {} regular season\".format(season))\n",
    "        \n",
    "        for date in tqdm(date_list):\n",
    "            # BeautifulSoup object for a list of boxscores on a given day\n",
    "            url_summaries = url_boxscore.format(month=date[4:6],day=date[6:8],year=date[0:4])\n",
    "            soup_summaries = BeautifulSoup(urlopen(url_summaries),'lxml')\n",
    "            games = soup_summaries.find_all('div',class_='game_summary expanded nohover')\n",
    "\n",
    "            for game in games:\n",
    "                summary = {}\n",
    "\n",
    "                host = game.find_all('table')[1].find_all('a')[1]['href'][7:10]\n",
    "\n",
    "                winner = game.find('tr',class_='winner').find_all('td')\n",
    "                loser = game.find('tr',class_='loser').find_all('td')\n",
    "\n",
    "                summary['winner'] = [winner[0].find('a')['href'][7:10],int(winner[1].get_text())]\n",
    "                summary['loser'] = [loser[0].find('a')['href'][7:10],int(loser[1].get_text())]\n",
    "\n",
    "\n",
    "                url_game = url_parent+game.find('a',text='Box Score')['href']\n",
    "                soup_game = BeautifulSoup(urlopen(url_game),'lxml')\n",
    "\n",
    "\n",
    "                tables = soup_game.find_all('table',limit=4)[2:]\n",
    "\n",
    "                columns_basic = [th.get_text() for th in tables[0].find('thead').find_all('tr')[1].find_all('th')][1:]\n",
    "                columns_advanced = [th.get_text() for th in tables[1].find('thead').find_all('tr')[1].find_all('th')][2:]\n",
    "\n",
    "                column_headers = ['Name','Date','Team','Home','W','W_PTS','L','L_PTS','MP','FG','FGA','FG_perc','3P','3PA','3P_perc','FT','FTA'\n",
    "                                ,'FT_perc','ORB','DRB','TRB','AST','STL','BLK','TOV','PF','PTS','+-','TS_perc','eFG_perc','3PAr'\n",
    "                                ,'FTr','ORB_perc','DRB_perc','TRB_perc'\n",
    "                                ,'AST_perc','STL_perc','BLK_perc','TOV_perc','USG_perc','ORtg','DRtg']\n",
    "#                 column_headers = game_columns + columns_basic + columns_advanced\n",
    "\n",
    "                teams = ['winner','loser']\n",
    "                basic_stat_template = 'box-{team}-game-basic'\n",
    "                advanced_stat_template = 'box-{team}-game-advanced'\n",
    "\n",
    "                for team in teams:\n",
    "                    if summary[team][0] == host:\n",
    "                        home = 1\n",
    "                    else:\n",
    "                        home = 0\n",
    "\n",
    "                    basic_stat = basic_stat_template.format(team=summary[team][0].upper())\n",
    "                    advanced_stat = advanced_stat_template.format(team=summary[team][0].upper())\n",
    "\n",
    "                    game_data = [date, summary[team][0], home,summary['winner'][0],\n",
    "                                 summary['winner'][1], summary['loser'][0],summary['loser'][1]]\n",
    "                    \n",
    "                    data_basic = soup_game.find('table',id=basic_stat).find('tbody').find_all('tr',class_=None)\n",
    "                    data_advanced = soup_game.find('table',id=advanced_stat).find('tbody').find_all('tr',class_=None)\n",
    "\n",
    "                    n = len(data_basic)\n",
    "\n",
    "                    player_names = [data_basic[i].find('a').get_text() for i in range(n)]\n",
    "\n",
    "                    player_data = []\n",
    "                    injury_keywords = ['Did Not Play', 'Not With Team']\n",
    "\n",
    "                    for i in range(n):\n",
    "                        if data_basic[i].find('td').get_text() not in injury_keywords:\n",
    "                            data = [player_names[i]] + game_data + \\\n",
    "                                   [td.get_text() for td in data_basic[i].find_all('td')] + \\\n",
    "                                   [td.get_text() for td in data_advanced[i].find_all('td')[1:]]\n",
    "\n",
    "                            player_data.append(data)\n",
    "                    \n",
    "                    df = pd.DataFrame(player_data,columns=column_headers)\n",
    "#                     df.columns = df.columns.str.replace('%','_perc').str.replace('/','')\n",
    "                    df = df.fillna(0)\n",
    "                    df.loc[:,'FG':'+-'] = df.loc[:,'FG':'+-'].apply(pd.to_numeric)\n",
    "                    df['MP'] = [0.00 if ':' not in t else round(int(t.split(':')[0])+int(t.split(':')[1])/60, 2) for t in df['MP']] \n",
    "                    df.to_csv(os.path.join(*[DATA_DIR, 'Boxscores', season, date+'-'+summary[team][0]+'.csv']), index=False)\n",
    "\n",
    "                time.sleep(SECONDS_SLEEP)\n",
    "        return None\n",
    "\n",
    "    # Scraping DraftKings salary data from RotoGuru.com\n",
    "    def get_fantasy_salary(self, season, date_list):\n",
    "        url_roto = \"http://rotoguru1.com/cgi-bin/hyday.pl?mon={month}&day={day}&year={year}&game=dk\"  \n",
    "        print(\"Scraping salary information from the {} regular season\".format(season))\n",
    "        \n",
    "        for date in tqdm(date_list):\n",
    "            print(date)\n",
    "            teams, positions, players, starters, salaries = [], [], [], [], []\n",
    "\n",
    "            url_date = url_roto.format(month=date[4:6],day=date[6:8],year=date[0:4])\n",
    "            soup = BeautifulSoup(urlopen(url_date),'lxml')\n",
    "\n",
    "            #Check if there were any games on a given date\n",
    "            soup_table = soup.find('body').find('table', border=\"0\", cellspacing=\"5\")\n",
    "\n",
    "            soup_rows = soup_table.find_all('tr')\n",
    "\n",
    "            for row in soup_rows:\n",
    "                if row.find('td').has_attr('colspan') == False:\n",
    "                    if row.find('a').get_text() != '':\n",
    "\n",
    "                        position = row.find_all('td')[0].get_text()\n",
    "\n",
    "                        player_tmp = row.find('a').get_text().split(\", \")\n",
    "                        player = player_tmp[1] + ' ' + player_tmp[0]\n",
    "\n",
    "                        starter_tmp = row.find_all('td')[1].get_text()\n",
    "\n",
    "                        if '^' in starter_tmp:\n",
    "                            starter = 1\n",
    "                        else:\n",
    "                            starter =0\n",
    "\n",
    "                        salary_tmp = row.find_all('td')[3].get_text()\n",
    "                        salary = re.sub('[$,]', '', salary_tmp)\n",
    "\n",
    "                        team = row.find_all('td')[4].get_text()\n",
    "\n",
    "                        positions.append(position)\n",
    "                        players.append(player)\n",
    "                        starters.append(starter)\n",
    "                        salaries.append(salary)\n",
    "                        teams.append(team)\n",
    "\n",
    "            df = pd.DataFrame({'Date': [date for i in range(len(players))], \n",
    "                               'Team': [team.upper() for team in teams],\n",
    "                               'Starter': starters,\n",
    "                               'Pos': positions,\n",
    "                               'Name': players,\n",
    "                               'Salary': salaries})\n",
    "\n",
    "            df = df.loc[:,['Date','Team','Pos','Name','Starter','Salary']]\n",
    "            df.to_csv(os.path.join(DATA_DIR, 'DKSalary', season, 'salary_'+date+'.csv'), index=False)\n",
    "\n",
    "            time.sleep(SECONDS_SLEEP)\n",
    "        return None"
   ]
  },
  {
   "cell_type": "code",
   "execution_count": 42,
   "metadata": {
    "ExecuteTime": {
     "end_time": "2019-05-25T20:59:26.409261Z",
     "start_time": "2019-05-25T20:37:59.724959Z"
    },
    "scrolled": true
   },
   "outputs": [
    {
     "name": "stdout",
     "output_type": "stream",
     "text": [
      "Scraping boxscores from the 2014-15 regular season\n"
     ]
    },
    {
     "data": {
      "application/vnd.jupyter.widget-view+json": {
       "model_id": "36eb0d8c984b435b83c7df6412937a59",
       "version_major": 2,
       "version_minor": 0
      },
      "text/plain": [
       "HBox(children=(IntProgress(value=0, max=1), HTML(value='')))"
      ]
     },
     "metadata": {},
     "output_type": "display_data"
    },
    {
     "name": "stdout",
     "output_type": "stream",
     "text": [
      "\n",
      "Scraping boxscores from the 2015-16 regular season\n"
     ]
    },
    {
     "data": {
      "application/vnd.jupyter.widget-view+json": {
       "model_id": "104d04200b3044379169fbad5f1cc4d0",
       "version_major": 2,
       "version_minor": 0
      },
      "text/plain": [
       "HBox(children=(IntProgress(value=0, max=1), HTML(value='')))"
      ]
     },
     "metadata": {},
     "output_type": "display_data"
    },
    {
     "name": "stdout",
     "output_type": "stream",
     "text": [
      "\n",
      "Scraping boxscores from the 2016-17 regular season\n"
     ]
    },
    {
     "data": {
      "application/vnd.jupyter.widget-view+json": {
       "model_id": "a52d5d23bd6e417f9a9f93e0328fbc23",
       "version_major": 2,
       "version_minor": 0
      },
      "text/plain": [
       "HBox(children=(IntProgress(value=0, max=1), HTML(value='')))"
      ]
     },
     "metadata": {},
     "output_type": "display_data"
    },
    {
     "name": "stdout",
     "output_type": "stream",
     "text": [
      "\n",
      "Scraping boxscores from the 2017-18 regular season\n"
     ]
    },
    {
     "data": {
      "application/vnd.jupyter.widget-view+json": {
       "model_id": "bf29cc280a1340a29c916452b2026496",
       "version_major": 2,
       "version_minor": 0
      },
      "text/plain": [
       "HBox(children=(IntProgress(value=0, max=1), HTML(value='')))"
      ]
     },
     "metadata": {},
     "output_type": "display_data"
    },
    {
     "name": "stdout",
     "output_type": "stream",
     "text": [
      "\n",
      "Scraping boxscores from the 2018-19 regular season\n"
     ]
    },
    {
     "data": {
      "application/vnd.jupyter.widget-view+json": {
       "model_id": "562f48256260431bad869f2858971ede",
       "version_major": 2,
       "version_minor": 0
      },
      "text/plain": [
       "HBox(children=(IntProgress(value=0, max=1), HTML(value='')))"
      ]
     },
     "metadata": {},
     "output_type": "display_data"
    },
    {
     "name": "stdout",
     "output_type": "stream",
     "text": [
      "\n",
      "Scraping boxscores from the 2019-20 regular season\n"
     ]
    },
    {
     "data": {
      "application/vnd.jupyter.widget-view+json": {
       "model_id": "86462941efbc4c068578dc82c70f586e",
       "version_major": 2,
       "version_minor": 0
      },
      "text/plain": [
       "HBox(children=(IntProgress(value=0, max=172), HTML(value='')))"
      ]
     },
     "metadata": {},
     "output_type": "display_data"
    },
    {
     "name": "stdout",
     "output_type": "stream",
     "text": [
      "\n",
      "Scraping salary information from the 2014-15 regular season\n"
     ]
    },
    {
     "data": {
      "application/vnd.jupyter.widget-view+json": {
       "model_id": "921a6753d066457eb54dcbf7cb205dfd",
       "version_major": 2,
       "version_minor": 0
      },
      "text/plain": [
       "HBox(children=(IntProgress(value=0, max=1), HTML(value='')))"
      ]
     },
     "metadata": {},
     "output_type": "display_data"
    },
    {
     "name": "stdout",
     "output_type": "stream",
     "text": [
      "20150415\n",
      "\n",
      "Scraping salary information from the 2015-16 regular season\n"
     ]
    },
    {
     "data": {
      "application/vnd.jupyter.widget-view+json": {
       "model_id": "fa89eb6b87264d71852827a6684c1003",
       "version_major": 2,
       "version_minor": 0
      },
      "text/plain": [
       "HBox(children=(IntProgress(value=0, max=1), HTML(value='')))"
      ]
     },
     "metadata": {},
     "output_type": "display_data"
    },
    {
     "name": "stdout",
     "output_type": "stream",
     "text": [
      "20160413\n",
      "\n",
      "Scraping salary information from the 2016-17 regular season\n"
     ]
    },
    {
     "data": {
      "application/vnd.jupyter.widget-view+json": {
       "model_id": "68e20efc6b6543f5baf07d6d5613b4ac",
       "version_major": 2,
       "version_minor": 0
      },
      "text/plain": [
       "HBox(children=(IntProgress(value=0, max=1), HTML(value='')))"
      ]
     },
     "metadata": {},
     "output_type": "display_data"
    },
    {
     "name": "stdout",
     "output_type": "stream",
     "text": [
      "20170412\n",
      "\n",
      "Scraping salary information from the 2017-18 regular season\n"
     ]
    },
    {
     "data": {
      "application/vnd.jupyter.widget-view+json": {
       "model_id": "1f3403cc93024478b169430e03eefbbd",
       "version_major": 2,
       "version_minor": 0
      },
      "text/plain": [
       "HBox(children=(IntProgress(value=0, max=1), HTML(value='')))"
      ]
     },
     "metadata": {},
     "output_type": "display_data"
    },
    {
     "name": "stdout",
     "output_type": "stream",
     "text": [
      "20180411\n",
      "\n",
      "Scraping salary information from the 2018-19 regular season\n"
     ]
    },
    {
     "data": {
      "application/vnd.jupyter.widget-view+json": {
       "model_id": "e499f768c2394ef5ab1406acfe757d3e",
       "version_major": 2,
       "version_minor": 0
      },
      "text/plain": [
       "HBox(children=(IntProgress(value=0, max=1), HTML(value='')))"
      ]
     },
     "metadata": {},
     "output_type": "display_data"
    },
    {
     "name": "stdout",
     "output_type": "stream",
     "text": [
      "20190410\n",
      "\n",
      "Scraping salary information from the 2019-20 regular season\n"
     ]
    },
    {
     "data": {
      "application/vnd.jupyter.widget-view+json": {
       "model_id": "63a3d73e56d54ad397166852317810ce",
       "version_major": 2,
       "version_minor": 0
      },
      "text/plain": [
       "HBox(children=(IntProgress(value=0, max=172), HTML(value='')))"
      ]
     },
     "metadata": {},
     "output_type": "display_data"
    },
    {
     "name": "stdout",
     "output_type": "stream",
     "text": [
      "20191022\n",
      "20191023\n",
      "20191024\n",
      "20191025\n",
      "20191026\n",
      "20191027\n",
      "20191028\n",
      "20191029\n",
      "20191030\n",
      "20191031\n",
      "20191101\n",
      "20191102\n",
      "20191103\n",
      "20191104\n",
      "20191105\n",
      "20191106\n",
      "20191107\n",
      "20191108\n",
      "20191109\n",
      "20191110\n",
      "20191111\n",
      "20191112\n",
      "20191113\n",
      "20191114\n",
      "20191115\n",
      "20191116\n",
      "20191117\n",
      "20191118\n",
      "20191119\n",
      "20191120\n",
      "20191121\n",
      "20191122\n",
      "20191123\n",
      "20191124\n",
      "20191125\n",
      "20191126\n",
      "20191127\n",
      "20191128\n",
      "20191129\n",
      "20191130\n",
      "20191201\n",
      "20191202\n",
      "20191203\n",
      "20191204\n",
      "20191205\n",
      "20191206\n",
      "20191207\n",
      "20191208\n",
      "20191209\n",
      "20191210\n",
      "20191211\n",
      "20191212\n",
      "20191213\n",
      "20191214\n",
      "20191215\n",
      "20191216\n",
      "20191217\n",
      "20191218\n",
      "20191219\n",
      "20191220\n",
      "20191221\n",
      "20191222\n",
      "20191223\n",
      "20191224\n",
      "20191225\n",
      "20191226\n",
      "20191227\n",
      "20191228\n",
      "20191229\n",
      "20191230\n",
      "20191231\n",
      "20200101\n",
      "20200102\n",
      "20200103\n",
      "20200104\n",
      "20200105\n",
      "20200106\n",
      "20200107\n",
      "20200108\n",
      "20200109\n",
      "20200110\n",
      "20200111\n",
      "20200112\n",
      "20200113\n",
      "20200114\n",
      "20200115\n",
      "20200116\n",
      "20200117\n",
      "20200118\n",
      "20200119\n",
      "20200120\n",
      "20200121\n",
      "20200122\n",
      "20200123\n",
      "20200124\n",
      "20200125\n",
      "20200126\n",
      "20200127\n",
      "20200128\n",
      "20200129\n",
      "20200130\n",
      "20200131\n",
      "20200201\n",
      "20200202\n",
      "20200203\n",
      "20200204\n",
      "20200205\n",
      "20200206\n",
      "20200207\n",
      "20200208\n",
      "20200209\n",
      "20200210\n",
      "20200211\n",
      "20200212\n",
      "20200213\n",
      "20200214\n",
      "20200215\n",
      "20200216\n",
      "20200217\n",
      "20200218\n",
      "20200219\n",
      "20200220\n",
      "20200221\n",
      "20200222\n",
      "20200223\n",
      "20200224\n",
      "20200225\n",
      "20200226\n",
      "20200227\n",
      "20200228\n",
      "20200229\n",
      "20200301\n",
      "20200302\n",
      "20200303\n",
      "20200304\n",
      "20200305\n",
      "20200306\n",
      "20200307\n",
      "20200308\n",
      "20200309\n",
      "20200310\n",
      "20200311\n",
      "20200312\n",
      "20200313\n",
      "20200314\n",
      "20200315\n",
      "20200316\n",
      "20200317\n",
      "20200318\n",
      "20200319\n",
      "20200320\n",
      "20200321\n",
      "20200322\n",
      "20200323\n",
      "20200324\n",
      "20200325\n",
      "20200326\n",
      "20200327\n",
      "20200328\n",
      "20200329\n",
      "20200330\n",
      "20200331\n",
      "20200401\n",
      "20200402\n",
      "20200403\n",
      "20200404\n",
      "20200405\n",
      "20200406\n",
      "20200407\n",
      "20200408\n",
      "20200409\n",
      "20200410\n",
      "\n"
     ]
    }
   ],
   "source": [
    "scraper = DataScraper()\n",
    "\n",
    "# Comment out season dates in SEASON_DATES in constants.py to extract data for specific seasons\n",
    "for data_type in ['Boxscores', 'DKSalary']:\n",
    "    for season in SEASON_DATES.keys(): \n",
    "        if not os.path.exists(os.path.join(DATA_DIR, data_type, season)):\n",
    "            # Create a new directory and scrape the entire season\n",
    "            os.mkdir(os.path.join(DATA_DIR, data_type, season))\n",
    "            start_date = SEASON_DATES[season][0]\n",
    "            end_date = SEASON_DATES[season][1]\n",
    "            date_list = [d.strftime('%Y%m%d') for d in pd.date_range(start_date, end_date)]\n",
    "\n",
    "            if data_type == 'Boxscores':\n",
    "                scraper.get_boxscores(season, date_list)\n",
    "            else:\n",
    "                scraper.get_fantasy_salary(season, date_list)\n",
    "\n",
    "\n",
    "        elif os.path.exists(os.path.join(DATA_DIR, data_type, season)):\n",
    "            # Iterate over the existing files by name and scrape missing dates\n",
    "            start_date = SEASON_DATES[season][0]\n",
    "            end_date = SEASON_DATES[season][1]\n",
    "            # Dates to scrape box scores from\n",
    "            date_list = [d.strftime('%Y%m%d') for d in pd.date_range(start_date, end_date)]\n",
    "                            \n",
    "            if data_type == 'Boxscores':               \n",
    "                for date in date_list:\n",
    "                    # Check if csv files of the form {date}-{hometeam}.csv (i.e. 20131029-CHI.csv) exists\n",
    "                    if len(glob.glob(os.path.join(DATA_DIR, data_type, season, str(date)+\"*.csv\"))) > 0:\n",
    "                        # Set back the start day by \n",
    "                        date_list = date_list[date_list.index(date):]\n",
    "\n",
    "                scraper.get_boxscores(season, date_list)\n",
    "                \n",
    "            else:\n",
    "                for date in date_list:\n",
    "                    # Check if csv files of the form salary_{date}.csv (i.e. salary_20131029.csv) exists\n",
    "                    if os.path.exists(os.path.join(DATA_DIR, data_type, season, \"salary_{}.csv\".format(date))):\n",
    "                        date_list = date_list[date_list.index(date):]\n",
    "\n",
    "                scraper.get_fantasy_salary(season, date_list)"
   ]
  }
 ],
 "metadata": {
  "kernelspec": {
   "display_name": "Python 3",
   "language": "python",
   "name": "python3"
  },
  "language_info": {
   "codemirror_mode": {
    "name": "ipython",
    "version": 3
   },
   "file_extension": ".py",
   "mimetype": "text/x-python",
   "name": "python",
   "nbconvert_exporter": "python",
   "pygments_lexer": "ipython3",
   "version": "3.7.4"
  },
  "varInspector": {
   "cols": {
    "lenName": 16,
    "lenType": 16,
    "lenVar": 40
   },
   "kernels_config": {
    "python": {
     "delete_cmd_postfix": "",
     "delete_cmd_prefix": "del ",
     "library": "var_list.py",
     "varRefreshCmd": "print(var_dic_list())"
    },
    "r": {
     "delete_cmd_postfix": ") ",
     "delete_cmd_prefix": "rm(",
     "library": "var_list.r",
     "varRefreshCmd": "cat(var_dic_list()) "
    }
   },
   "types_to_exclude": [
    "module",
    "function",
    "builtin_function_or_method",
    "instance",
    "_Feature"
   ],
   "window_display": false
  }
 },
 "nbformat": 4,
 "nbformat_minor": 2
}
