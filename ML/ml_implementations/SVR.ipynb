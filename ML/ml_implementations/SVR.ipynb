{
 "cells": [
  {
   "cell_type": "code",
   "execution_count": 1,
   "metadata": {},
   "outputs": [],
   "source": [
    "import pandas as pd\n",
    "import numpy as np\n",
    "import math\n",
    "from sklearn.metrics import mean_squared_error, r2_score, make_scorer\n",
    "from sklearn.preprocessing import MinMaxScaler\n",
    "from sklearn import svm, model_selection"
   ]
  },
  {
   "cell_type": "code",
   "execution_count": 2,
   "metadata": {},
   "outputs": [],
   "source": [
    "merged_path = \"C:/Users/ozgur/Desktop/dev/Fantasy-Basketball-Player-Recomendation-System/ML/main_merged6.csv\"\n",
    "merged_df = pd.read_csv(merged_path, index_col=None, header=0)\n",
    "merged_df.drop(['Pos', 'Date', 'STL_AVG', 'BLK Last Week',\n",
    "       'USG_perc', 'DRtg', 'ORtg', 'AST_perc', 'DRB_perc', 'ORB_perc', 'Starter', 'MP Last Month',\n",
    "       'BLK_perc', 'TOV_perc', 'STL_perc', 'eFG_perc', 'MP', 'FG', 'FGA', 'MP Last Week', 'PTS_AVG Last Week',\n",
    "               'FG_perc', '3P', '3PA', '3P_perc', 'FT', 'FTA', 'BLK Last Month', 'TRB_AVG', 'PTS_AVG', '3PA_AVG',\n",
    "       'FT_perc', 'TRB', 'STL', 'BLK', 'TOV', 'PF', 'W', 'BLK_AVG', 'FGA_AVG', 'FG_perc_AVG', 'FG_AVG Last Week',\n",
    "       'FGA_AVG Last Week', 'FG_perc_AVG Last Week', 'FG_AVG Last Month', 'ORtg Last Month', 'TOV_AVG', \n",
    "       'FGA_AVG Last Month', 'FG_perc_AVG Last Month', 'AST Last Month', 'AST Last Week', 'AST_AVG', 'AST'], axis=1, inplace=True)"
   ]
  },
  {
   "cell_type": "code",
   "execution_count": 3,
   "metadata": {},
   "outputs": [
    {
     "name": "stdout",
     "output_type": "stream",
     "text": [
      "Index(['Name', 'Team', 'Home', 'PTS', 'PG', 'SG', 'F', 'C',\n",
      "       'PTS_AVG Last Month', 'MP_AVG', 'FG_AVG', 'Opp', 'ORtg_AVG',\n",
      "       'eFG_perc_AVG', 'DRtg_AVG', 'USG_perc_AVG', '3P_AVG'],\n",
      "      dtype='object')\n",
      "Name                   object\n",
      "Team                   object\n",
      "Home                    int64\n",
      "PTS                     int64\n",
      "PG                      int64\n",
      "SG                      int64\n",
      "F                       int64\n",
      "C                       int64\n",
      "PTS_AVG Last Month    float64\n",
      "MP_AVG                float64\n",
      "FG_AVG                float64\n",
      "Opp                    object\n",
      "ORtg_AVG              float64\n",
      "eFG_perc_AVG          float64\n",
      "DRtg_AVG              float64\n",
      "USG_perc_AVG          float64\n",
      "3P_AVG                float64\n",
      "dtype: object\n",
      "(28911, 17)\n"
     ]
    }
   ],
   "source": [
    "print(merged_df.columns)\n",
    "print(merged_df.dtypes)\n",
    "print(merged_df.shape)"
   ]
  },
  {
   "cell_type": "code",
   "execution_count": 4,
   "metadata": {},
   "outputs": [],
   "source": [
    "merged_df['Team'] = pd.Categorical(merged_df['Team'])\n",
    "merged_df['Opp'] = pd.Categorical(merged_df['Opp'])\n",
    "dummies_team = pd.get_dummies(merged_df['Team'], prefix = 'Team')\n",
    "dummies_opp = pd.get_dummies(merged_df['Opp'], prefix = 'Opp')\n",
    "merged_df = pd.concat([merged_df, dummies_team], axis=1)\n",
    "merged_df = pd.concat([merged_df, dummies_opp], axis=1)"
   ]
  },
  {
   "cell_type": "code",
   "execution_count": null,
   "metadata": {},
   "outputs": [],
   "source": [
    "merged_df['Name'] = pd.Categorical(merged_df['Name'])\n",
    "dummies_name = pd.get_dummies(merged_df['Name'], prefix = '')\n",
    "merged_df = pd.concat([merged_df, dummies_name], axis=1)\n",
    "merged_df"
   ]
  },
  {
   "cell_type": "code",
   "execution_count": 5,
   "metadata": {},
   "outputs": [],
   "source": [
    "X_train = merged_df.loc[0:15500]\n",
    "X_train = X_train.drop(['PTS', 'Name', 'Team', 'Opp'], 1)\n",
    "X_norm = MinMaxScaler().fit_transform(X_train)\n",
    "X_norm = pd.DataFrame(X_norm)\n",
    "X_norm.columns = X_train.columns"
   ]
  },
  {
   "cell_type": "code",
   "execution_count": 6,
   "metadata": {},
   "outputs": [],
   "source": [
    "y_train = merged_df.loc[1609:15000]\n",
    "y_test = merged_df.loc[15000:15500]\n",
    "x_train = X_norm.loc[1609:15000]\n",
    "y_train = y_train[['PTS']]\n",
    "x_test = X_norm.loc[15000:15500]\n",
    "y_test = y_test[['PTS']]"
   ]
  },
  {
   "cell_type": "code",
   "execution_count": null,
   "metadata": {},
   "outputs": [],
   "source": [
    "scorer = make_scorer(mean_squared_error, greater_is_better=False)\n",
    "parameters = [{'kernel': ['rbf'], 'gamma': [0.01, 0.1, 0.2, 1e-3, 0,5], 'C': [1, 10, 100, 1000]},\n",
    "        {'kernel': ['linear'], 'C': [1, 10, 100, 1000]},\n",
    "        {'kernel': ['poly'], 'gamma': [0.01, 0.1, 0.2, 1e-3, 0,5], 'C': [1, 10, 100, 1000], 'degree' : [1.5, 2, 3] , 'epsilon' : [0.1, 0.5, 1, 10, 50]},\n",
    "        {'kernel': ['sigmoid'], 'gamma': [0.01, 0.1, 0.2, 1e-3, 0,5], 'C': [1, 10, 100, 1000]}]\n",
    "\n",
    "cv_svr = model_selection.GridSearchCV(svm.SVR(), parameters, cv = 3, n_jobs = -1, scoring = scorer)\n",
    "cv_svr.fit(x_train, y_train)"
   ]
  },
  {
   "cell_type": "code",
   "execution_count": null,
   "metadata": {},
   "outputs": [],
   "source": [
    "cv_svr.best_params_"
   ]
  },
  {
   "cell_type": "code",
   "execution_count": 25,
   "metadata": {},
   "outputs": [
    {
     "name": "stderr",
     "output_type": "stream",
     "text": [
      "c:\\users\\ozgur\\appdata\\local\\programs\\python\\python37\\lib\\site-packages\\sklearn\\utils\\validation.py:724: DataConversionWarning: A column-vector y was passed when a 1d array was expected. Please change the shape of y to (n_samples, ), for example using ravel().\n",
      "  y = column_or_1d(y, warn=True)\n"
     ]
    },
    {
     "name": "stdout",
     "output_type": "stream",
     "text": [
      "32.67759139031497 0.6200682776497921\n"
     ]
    }
   ],
   "source": [
    "svr1 = svm.SVR(kernel='poly', degree=3.5, epsilon=3, gamma=0.2, C=10)\n",
    "svr1.fit(x_train, y_train)\n",
    "y_pred = svr1.predict(x_test)\n",
    "print(mean_squared_error(y_test, y_pred), r2_score(y_test, y_pred))"
   ]
  },
  {
   "cell_type": "code",
   "execution_count": 8,
   "metadata": {},
   "outputs": [
    {
     "name": "stdout",
     "output_type": "stream",
     "text": [
      "32.84124302335922 0.6181655533619073\n"
     ]
    }
   ],
   "source": [
    "# 33.37901213478326 0.6119130868845086 degree:3\n",
    "# 33.0951521420064 0.6152134346572027  degree:1.5\n",
    "# 32.84124302335922 0.6181655533619073 degree:3 epsilon:1"
   ]
  }
 ],
 "metadata": {
  "kernelspec": {
   "display_name": "Python 3",
   "language": "python",
   "name": "python3"
  },
  "language_info": {
   "codemirror_mode": {
    "name": "ipython",
    "version": 3
   },
   "file_extension": ".py",
   "mimetype": "text/x-python",
   "name": "python",
   "nbconvert_exporter": "python",
   "pygments_lexer": "ipython3",
   "version": "3.7.4"
  }
 },
 "nbformat": 4,
 "nbformat_minor": 2
}
