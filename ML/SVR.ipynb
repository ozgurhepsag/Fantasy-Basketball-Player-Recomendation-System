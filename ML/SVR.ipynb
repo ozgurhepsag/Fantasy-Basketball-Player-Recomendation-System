{
 "cells": [
  {
   "cell_type": "code",
   "execution_count": null,
   "metadata": {},
   "outputs": [],
   "source": [
    "import pandas as pd\n",
    "import numpy as np\n",
    "import math\n",
    "from sklearn.metrics import mean_squared_error, r2_score, make_scorer\n",
    "from sklearn import preprocessing\n",
    "from sklearn import svm, model_selection"
   ]
  },
  {
   "cell_type": "code",
   "execution_count": null,
   "metadata": {},
   "outputs": [],
   "source": [
    "merged_path = \"C:/Users/ozgur/Desktop/dev/Fantasy-Basketball-Player-Recomendation-System/ML/main_merged1.csv\"\n",
    "merged_df = pd.read_csv(merged_path, index_col=None, header=0)\n",
    "merged_df.drop(['Pos', 'Date', 'W_PTS', 'L_PTS', 'DD', 'TD',\n",
    "       'USG_perc', 'DRtg', 'ORtg', 'AST_perc', 'DRB_perc', 'ORB_perc', 'Starter',\n",
    "       'BLK_perc', 'TOV_perc', 'STL_perc', 'eFG_perc', 'MP', 'FG', 'FGA',\n",
    "               'FG_perc', '3P', '3PA', '3P_perc', 'FT', 'FTA', 'BLK Last Week', 'BLK Last Month', 'TRB_AVG', 'STL_AVG',\n",
    "       'FT_perc', 'TRB', 'STL', 'BLK', 'TOV', 'PF', 'W', 'BLK_AVG', 'FG_AVG', 'FGA_AVG', 'FG_perc_AVG', 'FG_AVG Last Week',\n",
    "       'FGA_AVG Last Week', 'FG_perc_AVG Last Week', 'FG_AVG Last Month', 'AST Last Week', 'AST Last Month', 'AST', 'AST_AVG',\n",
    "       'FGA_AVG Last Month', 'FG_perc_AVG Last Month'], axis=1, inplace=True)"
   ]
  },
  {
   "cell_type": "code",
   "execution_count": null,
   "metadata": {},
   "outputs": [],
   "source": [
    "print(merged_df.columns)\n",
    "print(merged_df.dtypes)\n",
    "print(merged_df.shape)\n",
    "print(merged_df)"
   ]
  },
  {
   "cell_type": "code",
   "execution_count": null,
   "metadata": {},
   "outputs": [],
   "source": [
    "merged_df['Team'] = pd.Categorical(merged_df['Team'])\n",
    "merged_df['Opp'] = pd.Categorical(merged_df['Opp'])\n",
    "dummies_team = pd.get_dummies(merged_df['Team'], prefix = 'Team')\n",
    "dummies_opp = pd.get_dummies(merged_df['Opp'], prefix = 'Opp')\n",
    "merged_df = pd.concat([merged_df, dummies_team], axis=1)\n",
    "merged_df = pd.concat([merged_df, dummies_opp], axis=1)"
   ]
  },
  {
   "cell_type": "code",
   "execution_count": null,
   "metadata": {},
   "outputs": [],
   "source": [
    "merged_df['Name'] = pd.Categorical(merged_df['Name'])\n",
    "dummies_name = pd.get_dummies(merged_df['Name'], prefix = '')\n",
    "merged_df = pd.concat([merged_df, dummies_name], axis=1)\n",
    "merged_df"
   ]
  },
  {
   "cell_type": "code",
   "execution_count": null,
   "metadata": {},
   "outputs": [],
   "source": [
    "train = merged_df.loc[1609:25000]\n",
    "test = merged_df.loc[25000:25500]\n",
    "X_train = train.drop(['PTS', 'Name', 'Team', 'Opp'], 1)\n",
    "y_train = train[['PTS']]\n",
    "X_test = test.drop(['PTS', 'Name', 'Team', 'Opp'], 1)\n",
    "y_test = test[['PTS']]"
   ]
  },
  {
   "cell_type": "code",
   "execution_count": null,
   "metadata": {},
   "outputs": [],
   "source": [
    "scorer = make_scorer(mean_squared_error, greater_is_better=False)\n",
    "parameters = [{'kernel': ['rbf'], 'gamma': [0.01, 0.1, 0.2, 1e-3, 0,5], 'C': [1, 10, 100, 1000]},\n",
    "                    {'kernel': ['linear'], 'C': [1, 10, 100, 1000]},\n",
    "                   {'kernel': ['poly'], 'gamma': [0.01, 0.1, 0.2, 1e-3, 0,5], 'C': [1, 10, 100, 1000], 'degree' : [1.5, 2, 3]},\n",
    "                   {'kernel': ['sigmoid'], 'gamma': [0.01, 0.1, 0.2, 1e-3, 0,5], 'C': [1, 10, 100, 1000]}]\n",
    "\n",
    "cv_svr = model_selection.GridSearchCV(svm.SVR(), parameters, cv = 3, n_jobs = -1, scoring = scorer)\n",
    "cv_svr.fit(X_train, y_train)\n",
    "cv_svr.best_param_"
   ]
  },
  {
   "cell_type": "code",
   "execution_count": null,
   "metadata": {},
   "outputs": [],
   "source": [
    "svr1 = svm.SVR(kernel='poly', degree=2, epsilon=0.1, gamma=0.2, C=10)\n",
    "svr1.fit(X_train, y_train)"
   ]
  },
  {
   "cell_type": "code",
   "execution_count": null,
   "metadata": {},
   "outputs": [],
   "source": [
    "# 34.34100673679344 0.5640552429661726\n",
    "\n",
    "y_pred = svr.predict(X_test)\n",
    "print(mean_squared_error(y_test, y_pred), r2_score(y_test, y_pred))"
   ]
  }
 ],
 "metadata": {
  "kernelspec": {
   "display_name": "Python 3",
   "language": "python",
   "name": "python3"
  },
  "language_info": {
   "codemirror_mode": {
    "name": "ipython",
    "version": 3
   },
   "file_extension": ".py",
   "mimetype": "text/x-python",
   "name": "python",
   "nbconvert_exporter": "python",
   "pygments_lexer": "ipython3",
   "version": "3.7.4"
  }
 },
 "nbformat": 4,
 "nbformat_minor": 2
}
