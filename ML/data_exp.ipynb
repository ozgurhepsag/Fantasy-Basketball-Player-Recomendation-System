{
 "cells": [
  {
   "cell_type": "code",
   "execution_count": 6,
   "metadata": {},
   "outputs": [],
   "source": [
    "import pandas as pd\n",
    "import numpy as np\n",
    "import glob"
   ]
  },
  {
   "cell_type": "code",
   "execution_count": 16,
   "metadata": {},
   "outputs": [],
   "source": [
    "path = \"C:/Users/ozgur/Downloads/fantasy-basketball-master/data/Boxscores/2014-15\"\n",
    "all_files = glob.glob(path + \"/*.csv\")"
   ]
  },
  {
   "cell_type": "code",
   "execution_count": 17,
   "metadata": {},
   "outputs": [],
   "source": [
    "temp_list = []\n",
    "\n",
    "for filename in all_files:\n",
    "    df = pd.read_csv(filename, index_col=None, header=0)\n",
    "    temp_list.append(df)\n",
    "\n",
    "dataframe = pd.concat(temp_list, axis=0, ignore_index=True)"
   ]
  },
  {
   "cell_type": "code",
   "execution_count": 18,
   "metadata": {},
   "outputs": [
    {
     "name": "stdout",
     "output_type": "stream",
     "text": [
      "                   Name      Date Team  Home    W  W_PTS    L  L_PTS     MP  \\\n",
      "0           Monta Ellis  20141028  DAL     0  SAS    101  DAL    100  37.22   \n",
      "1      Chandler Parsons  20141028  DAL     0  SAS    101  DAL    100  33.82   \n",
      "2         Dirk Nowitzki  20141028  DAL     0  SAS    101  DAL    100  31.67   \n",
      "3         Jameer Nelson  20141028  DAL     0  SAS    101  DAL    100  30.47   \n",
      "4        Tyson Chandler  20141028  DAL     0  SAS    101  DAL    100  27.75   \n",
      "...                 ...       ...  ...   ...  ...    ...  ...    ...    ...   \n",
      "32077    Meyers Leonard  20150425  POR     1  MEM    115  POR    109   5.08   \n",
      "32078        Alonzo Gee  20150425  POR     1  MEM    115  POR    109   0.00   \n",
      "32079      Allen Crabbe  20150425  POR     1  MEM    115  POR    109   0.00   \n",
      "32080       Tim Frazier  20150425  POR     1  MEM    115  POR    109   0.00   \n",
      "32081     Joel Freeland  20150425  POR     1  MEM    115  POR    109   0.00   \n",
      "\n",
      "       FG  ...  ORB_perc  DRB_perc  TRB_perc  AST_perc  STL_perc  BLK_perc  \\\n",
      "0      11  ...       3.4      11.7       7.3      32.5       1.5       0.0   \n",
      "1       2  ...       0.0      17.2       8.0       0.0       3.3       3.4   \n",
      "2       7  ...       8.0      18.4      12.8      11.1       1.8       0.0   \n",
      "3       3  ...       0.0       0.0       0.0      14.2       1.8       3.8   \n",
      "4       4  ...      13.7      36.7      24.4       0.0       4.0       0.0   \n",
      "...    ..  ...       ...       ...       ...       ...       ...       ...   \n",
      "32077   0  ...       0.0       0.0       0.0       0.0       0.0       0.0   \n",
      "32078   0  ...       0.0       0.0       0.0       0.0       0.0       0.0   \n",
      "32079   0  ...       0.0       0.0       0.0       0.0       0.0       0.0   \n",
      "32080   0  ...       0.0       0.0       0.0       0.0       0.0       0.0   \n",
      "32081   0  ...       0.0       0.0       0.0       0.0       0.0       0.0   \n",
      "\n",
      "       TOV_perc  USG_perc   ORtg   DRtg  \n",
      "0          11.6      34.5  114.0  120.0  \n",
      "1           9.1      16.2   50.0  112.0  \n",
      "2           7.3      21.6  143.0  118.0  \n",
      "3           0.0      11.4  144.0  120.0  \n",
      "4          11.1      16.2  106.0  108.0  \n",
      "...         ...       ...    ...    ...  \n",
      "32077       NaN       0.0    0.0  130.0  \n",
      "32078       0.0       0.0    0.0    0.0  \n",
      "32079       0.0       0.0    0.0    0.0  \n",
      "32080       0.0       0.0    0.0    0.0  \n",
      "32081       0.0       0.0    0.0    0.0  \n",
      "\n",
      "[32082 rows x 42 columns]\n"
     ]
    }
   ],
   "source": [
    "print(dataframe)"
   ]
  }
 ],
 "metadata": {
  "kernelspec": {
   "display_name": "Python 3",
   "language": "python",
   "name": "python3"
  },
  "language_info": {
   "codemirror_mode": {
    "name": "ipython",
    "version": 3
   },
   "file_extension": ".py",
   "mimetype": "text/x-python",
   "name": "python",
   "nbconvert_exporter": "python",
   "pygments_lexer": "ipython3",
   "version": "3.7.4"
  }
 },
 "nbformat": 4,
 "nbformat_minor": 2
}
