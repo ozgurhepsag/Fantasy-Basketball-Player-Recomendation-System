{
 "cells": [
  {
   "cell_type": "code",
   "execution_count": 36,
   "metadata": {},
   "outputs": [],
   "source": [
    "import pandas as pd\n",
    "import numpy as np\n",
    "from math import sqrt\n",
    "from sklearn.linear_model import LinearRegression\n",
    "from sklearn.metrics import mean_squared_error, r2_score\n",
    "from sklearn import svm\n",
    "from sklearn.preprocessing import StandardScaler\n",
    "from sklearn.pipeline import Pipeline\n",
    "import matplotlib.pyplot as plt"
   ]
  },
  {
   "cell_type": "code",
   "execution_count": 43,
   "metadata": {},
   "outputs": [],
   "source": [
    "merged_path = \"C:/Users/ozgur/Desktop/dev/Fantasy-Basketball-Player-Recomendation-System/ML/main_merged5v2.csv\"\n",
    "merged_df = pd.read_csv(merged_path, index_col=None, header=0)\n",
    "merged_df.drop(['Pos', 'Date', 'STL_AVG', 'BLK Last Week',\n",
    "       'USG_perc', 'DRtg', 'ORtg', 'AST_perc', 'DRB_perc', 'ORB_perc', 'Starter', 'MP Last Month',\n",
    "       'BLK_perc', 'TOV_perc', 'STL_perc', 'eFG_perc', 'MP', 'FG', 'FGA', 'MP Last Week', 'PTS_AVG Last Week',\n",
    "               'FG_perc', '3P', '3PA', '3P_perc', 'FT', 'FTA', 'BLK Last Month', 'TRB_AVG', 'PTS_AVG', '3PA_AVG',\n",
    "       'FT_perc', 'TRB', 'STL', 'BLK', 'TOV', 'PF', 'W', 'BLK_AVG', 'FGA_AVG', 'FG_perc_AVG', 'FG_AVG Last Week',\n",
    "       'FGA_AVG Last Week', 'FG_perc_AVG Last Week', 'FG_AVG Last Month', 'ORtg Last Month', 'TOV_AVG', \n",
    "       'FGA_AVG Last Month', 'FG_perc_AVG Last Month', 'AST Last Month', 'AST Last Week', 'AST_AVG', 'AST'], axis=1, inplace=True)"
   ]
  },
  {
   "cell_type": "code",
   "execution_count": 44,
   "metadata": {},
   "outputs": [
    {
     "name": "stdout",
     "output_type": "stream",
     "text": [
      "Index(['Name', 'Team', 'Home', 'PTS', 'PG', 'SG', 'F', 'C',\n",
      "       'PTS_AVG Last Month', 'MP_AVG', 'FG_AVG', 'Opp', 'ORtg_AVG',\n",
      "       'eFG_perc_AVG', 'DRtg_AVG', 'USG_perc_AVG', '3P_AVG'],\n",
      "      dtype='object')\n",
      "Name                   object\n",
      "Team                   object\n",
      "Home                    int64\n",
      "PTS                     int64\n",
      "PG                      int64\n",
      "SG                      int64\n",
      "F                       int64\n",
      "C                       int64\n",
      "PTS_AVG Last Month    float64\n",
      "MP_AVG                float64\n",
      "FG_AVG                float64\n",
      "Opp                    object\n",
      "ORtg_AVG              float64\n",
      "eFG_perc_AVG          float64\n",
      "DRtg_AVG              float64\n",
      "USG_perc_AVG          float64\n",
      "3P_AVG                float64\n",
      "dtype: object\n",
      "(28911, 17)\n"
     ]
    }
   ],
   "source": [
    "print(merged_df.columns)\n",
    "print(merged_df.dtypes)\n",
    "print(merged_df.shape)"
   ]
  },
  {
   "cell_type": "code",
   "execution_count": null,
   "metadata": {},
   "outputs": [],
   "source": [
    "# temp_path = \"C:/Users/ozgur/Desktop/dev/Fantasy-Basketball-Player-Recomendation-System/ML/data/Merged/df_2018-19.csv\"\n",
    "# temp_df = pd.read_csv(temp_path, index_col=None, header=0)\n",
    "# merged_df['Opp'] = np.nan\n",
    "\n",
    "# for index, row in temp_df.iterrows():\n",
    "#     if row['W'] == row['Team']:\n",
    "#         merged_df.loc[index, ['Opp']] = row['L']\n",
    "#     else:\n",
    "#         merged_df.loc[index, ['Opp']] = row['W']\n",
    "        \n",
    "# merged_df"
   ]
  },
  {
   "cell_type": "code",
   "execution_count": 45,
   "metadata": {},
   "outputs": [],
   "source": [
    "merged_df['Team'] = pd.Categorical(merged_df['Team'])\n",
    "merged_df['Opp'] = pd.Categorical(merged_df['Opp'])\n",
    "dummies_team = pd.get_dummies(merged_df['Team'], prefix = 'Team')\n",
    "dummies_opp = pd.get_dummies(merged_df['Opp'], prefix = 'Opp')\n",
    "merged_df = pd.concat([merged_df, dummies_team], axis=1)\n",
    "merged_df = pd.concat([merged_df, dummies_opp], axis=1)"
   ]
  },
  {
   "cell_type": "code",
   "execution_count": null,
   "metadata": {},
   "outputs": [],
   "source": [
    "merged_df['Name'] = pd.Categorical(merged_df['Name'])\n",
    "# dummies_name = pd.get_dummies(merged_df['Name'], prefix = '')\n",
    "# merged_df = pd.concat([merged_df, dummies_name], axis=1)\n",
    "# merged_df"
   ]
  },
  {
   "cell_type": "code",
   "execution_count": 58,
   "metadata": {},
   "outputs": [],
   "source": [
    "train = merged_df.loc[1609:17000]\n",
    "test = merged_df.loc[17000:17500]\n",
    "X_train = train.drop(['PTS', 'Name', 'Team', 'Opp'], 1)\n",
    "y_train = train[['PTS']]\n",
    "X_test = test.drop(['PTS', 'Name', 'Team', 'Opp'], 1)\n",
    "y_test = test[['PTS']]"
   ]
  },
  {
   "cell_type": "code",
   "execution_count": 59,
   "metadata": {},
   "outputs": [
    {
     "name": "stdout",
     "output_type": "stream",
     "text": [
      "31.333740279030174 0.5869545892807947 5.597654891026257\n"
     ]
    }
   ],
   "source": [
    "steps = [('scaler', StandardScaler()), ('regression', LinearRegression())]\n",
    "pipeline = Pipeline(steps)\n",
    "pipeline.fit(X_train, y_train)\n",
    "y_pred = pipeline.predict(X_test)\n",
    "# y_pred[y_pred < 0] = 0\n",
    "# y_pred[y_pred > 100] = 0\n",
    "rmse = sqrt(mean_squared_error(y_test, y_pred))\n",
    "print(mean_squared_error(y_test, y_pred), r2_score(y_test, y_pred), rmse)"
   ]
  },
  {
   "cell_type": "code",
   "execution_count": 6,
   "metadata": {},
   "outputs": [
    {
     "name": "stdout",
     "output_type": "stream",
     "text": [
      "32.444136507978804 0.622782581604377\n"
     ]
    }
   ],
   "source": [
    "lm = LinearRegression()\n",
    "lm.fit(X_train, y_train)\n",
    "# r_squared = lm.score(X_test, y_test)\n",
    "y_pred = lm.predict(X_test)\n",
    "# y_pred[y_pred < 0] = 0\n",
    "# y_pred[y_pred > 100] = 0\n",
    "print(mean_squared_error(y_test, y_pred), r2_score(y_test, y_pred))"
   ]
  },
  {
   "cell_type": "code",
   "execution_count": null,
   "metadata": {},
   "outputs": [],
   "source": [
    "# svr = svm.SVR(kernel='sigmoid', epsilon=0.2, gamma=0.4, C=1)\n",
    "# svr.fit(X_train, y_train)\n",
    "# y_pred = svr.predict(X_test)\n",
    "# print(mean_squared_error(y_test, y_pred), r2_score(y_test, y_pred))"
   ]
  },
  {
   "cell_type": "code",
   "execution_count": 24,
   "metadata": {},
   "outputs": [
    {
     "data": {
      "image/png": "[encoded data removed]",
      "text/plain": [
       "<Figure size 432x288 with 1 Axes>"
      ]
     },
     "metadata": {
      "needs_background": "light"
     },
     "output_type": "display_data"
    }
   ],
   "source": [
    "plt.scatter(y_pred, y_test)\n",
    "plt.plot(y_test, y_test, color='red')\n",
    "plt.xlabel(\"Actual PTS\")\n",
    "plt.ylabel(\"Predicted PTS\")\n",
    "plt.show()\n",
    "# 34.09 0.60 5.83\n",
    "# 33.89 0.60 5.82\n",
    "# 32.35 0.62 5.68"
   ]
  }
 ],
 "metadata": {
  "kernelspec": {
   "display_name": "Python 3",
   "language": "python",
   "name": "python3"
  },
  "language_info": {
   "codemirror_mode": {
    "name": "ipython",
    "version": 3
   },
   "file_extension": ".py",
   "mimetype": "text/x-python",
   "name": "python",
   "nbconvert_exporter": "python",
   "pygments_lexer": "ipython3",
   "version": "3.7.4"
  }
 },
 "nbformat": 4,
 "nbformat_minor": 2
}
