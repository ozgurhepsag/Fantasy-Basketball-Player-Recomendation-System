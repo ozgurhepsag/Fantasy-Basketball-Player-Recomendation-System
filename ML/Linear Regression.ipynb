{
 "cells": [
  {
   "cell_type": "code",
   "execution_count": 1,
   "metadata": {},
   "outputs": [],
   "source": [
    "import pandas as pd\n",
    "import numpy as np\n",
    "from sklearn.linear_model import LinearRegression\n",
    "from sklearn.metrics import mean_squared_error, r2_score\n",
    "from sklearn import svm\n",
    "from sklearn.preprocessing import StandardScaler\n",
    "from sklearn.pipeline import Pipeline"
   ]
  },
  {
   "cell_type": "code",
   "execution_count": 2,
   "metadata": {},
   "outputs": [],
   "source": [
    "merged_path = \"C:/Users/ozgur/Desktop/dev/Fantasy-Basketball-Player-Recomendation-System/ML/main_merged2.csv\"\n",
    "merged_df = pd.read_csv(merged_path, index_col=None, header=0)\n",
    "merged_df.drop(['Pos', 'Date', 'STL_AVG', 'BLK Last Week',\n",
    "       'USG_perc', 'DRtg', 'ORtg', 'AST_perc', 'DRB_perc', 'ORB_perc', 'Starter',\n",
    "       'BLK_perc', 'TOV_perc', 'STL_perc', 'eFG_perc', 'MP', 'FG', 'FGA',\n",
    "               'FG_perc', '3P', '3PA', '3P_perc', 'FT', 'FTA', 'BLK Last Month', 'TRB_AVG',\n",
    "       'FT_perc', 'TRB', 'STL', 'BLK', 'TOV', 'PF', 'W', 'BLK_AVG', 'FG_AVG', 'FGA_AVG', 'FG_perc_AVG', 'FG_AVG Last Week',\n",
    "       'FGA_AVG Last Week', 'FG_perc_AVG Last Week', 'FG_AVG Last Month',\n",
    "       'FGA_AVG Last Month', 'FG_perc_AVG Last Month', 'AST Last Month', 'AST Last Week', 'AST_AVG', 'AST'], axis=1, inplace=True)"
   ]
  },
  {
   "cell_type": "code",
   "execution_count": 3,
   "metadata": {},
   "outputs": [
    {
     "name": "stdout",
     "output_type": "stream",
     "text": [
      "Index(['Name', 'Team', 'Home', 'PTS', 'PG', 'SG', 'F', 'C',\n",
      "       'PTS_AVG Last Month', 'PTS_AVG Last Week', 'PTS_AVG', 'MP_AVG', 'Opp'],\n",
      "      dtype='object')\n",
      "Name                   object\n",
      "Team                   object\n",
      "Home                    int64\n",
      "PTS                     int64\n",
      "PG                      int64\n",
      "SG                      int64\n",
      "F                       int64\n",
      "C                       int64\n",
      "PTS_AVG Last Month    float64\n",
      "PTS_AVG Last Week     float64\n",
      "PTS_AVG               float64\n",
      "MP_AVG                float64\n",
      "Opp                    object\n",
      "dtype: object\n",
      "(28911, 13)\n",
      "                  Name Team  Home  PTS  PG  SG  F  C  PTS_AVG Last Month  \\\n",
      "0         Terry Rozier  BOS     1   11   1   0  0  0            0.000000   \n",
      "1         Kyrie Irving  BOS     1    7   1   0  0  0            0.000000   \n",
      "2         Marcus Smart  BOS     1    7   1   0  0  0            0.000000   \n",
      "3       Brad Wanamaker  BOS     1    2   1   0  0  0            0.000000   \n",
      "4         Jayson Tatum  BOS     1   23   0   0  1  0            0.000000   \n",
      "...                ...  ...   ...  ...  ..  .. .. ..                 ...   \n",
      "28906    Royce O'Neale  UTA     0    6   0   0  1  0            5.625000   \n",
      "28907  Tyler Cavanaugh  UTA     0    0   0   0  1  0            0.750000   \n",
      "28908        Ekpe Udoh  UTA     0   14   0   0  0  1            2.437500   \n",
      "28909     Tony Bradley  UTA     0   15   0   0  0  1            0.500000   \n",
      "28910   Derrick Favors  UTA     0    0   0   0  0  1           12.916667   \n",
      "\n",
      "       PTS_AVG Last Week    PTS_AVG     MP_AVG  Opp  \n",
      "0               0.000000   0.000000   0.000000  PHI  \n",
      "1               0.000000   0.000000   0.000000  PHI  \n",
      "2               0.000000   0.000000   0.000000  PHI  \n",
      "3               0.000000   0.000000   0.000000  PHI  \n",
      "4               0.000000   0.000000   0.000000  PHI  \n",
      "...                  ...        ...        ...  ...  \n",
      "28906           5.250000   5.185185  20.322716  LAC  \n",
      "28907           0.750000   0.473684   1.258421  LAC  \n",
      "28908           4.000000   1.312500   3.639750  LAC  \n",
      "28909           0.666667   0.400000   2.336000  LAC  \n",
      "28910          16.000000  11.802632  23.241842  LAC  \n",
      "\n",
      "[28911 rows x 13 columns]\n"
     ]
    },
    {
     "ename": "NameError",
     "evalue": "name 'plt' is not defined",
     "output_type": "error",
     "traceback": [
      "\u001b[1;31m---------------------------------------------------------------------------\u001b[0m",
      "\u001b[1;31mNameError\u001b[0m                                 Traceback (most recent call last)",
      "\u001b[1;32m<ipython-input-3-45700a4812ad>\u001b[0m in \u001b[0;36m<module>\u001b[1;34m\u001b[0m\n\u001b[0;32m      4\u001b[0m \u001b[0mprint\u001b[0m\u001b[1;33m(\u001b[0m\u001b[0mmerged_df\u001b[0m\u001b[1;33m)\u001b[0m\u001b[1;33m\u001b[0m\u001b[1;33m\u001b[0m\u001b[0m\n\u001b[0;32m      5\u001b[0m \u001b[1;33m\u001b[0m\u001b[0m\n\u001b[1;32m----> 6\u001b[1;33m \u001b[0mplt\u001b[0m\u001b[1;33m.\u001b[0m\u001b[0mmatshow\u001b[0m\u001b[1;33m(\u001b[0m\u001b[0mmerged_df\u001b[0m\u001b[1;33m.\u001b[0m\u001b[0mcorr\u001b[0m\u001b[1;33m(\u001b[0m\u001b[1;33m)\u001b[0m\u001b[1;33m)\u001b[0m\u001b[1;33m\u001b[0m\u001b[1;33m\u001b[0m\u001b[0m\n\u001b[0m\u001b[0;32m      7\u001b[0m \u001b[0mplt\u001b[0m\u001b[1;33m.\u001b[0m\u001b[0mshow\u001b[0m\u001b[1;33m(\u001b[0m\u001b[1;33m)\u001b[0m\u001b[1;33m\u001b[0m\u001b[1;33m\u001b[0m\u001b[0m\n",
      "\u001b[1;31mNameError\u001b[0m: name 'plt' is not defined"
     ]
    }
   ],
   "source": [
    "print(merged_df.columns)\n",
    "print(merged_df.dtypes)\n",
    "print(merged_df.shape)\n",
    "print(merged_df)"
   ]
  },
  {
   "cell_type": "code",
   "execution_count": null,
   "metadata": {},
   "outputs": [],
   "source": [
    "temp_path = \"C:/Users/ozgur/Desktop/dev/Fantasy-Basketball-Player-Recomendation-System/ML/data/Merged/df_2018-19.csv\"\n",
    "temp_df = pd.read_csv(temp_path, index_col=None, header=0)\n",
    "merged_df['Opp'] = np.nan\n",
    "\n",
    "for index, row in temp_df.iterrows():\n",
    "    if row['W'] == row['Team']:\n",
    "        merged_df.loc[index, ['Opp']] = row['L']\n",
    "    else:\n",
    "        merged_df.loc[index, ['Opp']] = row['W']\n",
    "        \n",
    "merged_df"
   ]
  },
  {
   "cell_type": "code",
   "execution_count": 4,
   "metadata": {},
   "outputs": [],
   "source": [
    "merged_df['Team'] = pd.Categorical(merged_df['Team'])\n",
    "merged_df['Opp'] = pd.Categorical(merged_df['Opp'])\n",
    "dummies_team = pd.get_dummies(merged_df['Team'], prefix = 'Team')\n",
    "dummies_opp = pd.get_dummies(merged_df['Opp'], prefix = 'Opp')\n",
    "merged_df = pd.concat([merged_df, dummies_team], axis=1)\n",
    "merged_df = pd.concat([merged_df, dummies_opp], axis=1)"
   ]
  },
  {
   "cell_type": "code",
   "execution_count": null,
   "metadata": {},
   "outputs": [],
   "source": [
    "merged_df['Name'] = pd.Categorical(merged_df['Name'])\n",
    "# dummies_name = pd.get_dummies(merged_df['Name'], prefix = '')\n",
    "# merged_df = pd.concat([merged_df, dummies_name], axis=1)\n",
    "# merged_df"
   ]
  },
  {
   "cell_type": "code",
   "execution_count": 7,
   "metadata": {},
   "outputs": [],
   "source": [
    "train = merged_df.loc[1609:10000]\n",
    "test = merged_df.loc[10000:10500]\n",
    "X_train = train.drop(['PTS', 'Name', 'Team', 'Opp'], 1)\n",
    "y_train = train[['PTS']]\n",
    "X_test = test.drop(['PTS', 'Name', 'Team', 'Opp'], 1)\n",
    "y_test = test[['PTS']]"
   ]
  },
  {
   "cell_type": "code",
   "execution_count": null,
   "metadata": {},
   "outputs": [],
   "source": [
    "steps = [('scaler', StandardScaler()), ('regression', LinearRegression())]\n",
    "pipeline = Pipeline(steps)\n",
    "pipeline.fit(X_train, y_train)\n",
    "y_pred = pipeline.predict(X_test)\n",
    "# y_pred[y_pred < 0] = 0\n",
    "# y_pred[y_pred > 100] = 0\n",
    "print(mean_squared_error(y_test, y_pred), r2_score(y_test, y_pred))"
   ]
  },
  {
   "cell_type": "code",
   "execution_count": null,
   "metadata": {},
   "outputs": [],
   "source": [
    "lm = LinearRegression()\n",
    "lm.fit(X_train, y_train)\n",
    "# r_squared = lm.score(X_test, y_test)\n",
    "y_pred = lm.predict(X_test)\n",
    "# y_pred[y_pred < 0] = 0\n",
    "# y_pred[y_pred > 100] = 0\n",
    "print(mean_squared_error(y_test, y_pred), r2_score(y_test, y_pred))"
   ]
  },
  {
   "cell_type": "code",
   "execution_count": null,
   "metadata": {},
   "outputs": [
    {
     "name": "stderr",
     "output_type": "stream",
     "text": [
      "c:\\users\\ozgur\\appdata\\local\\programs\\python\\python37\\lib\\site-packages\\sklearn\\utils\\validation.py:724: DataConversionWarning: A column-vector y was passed when a 1d array was expected. Please change the shape of y to (n_samples, ), for example using ravel().\n",
      "  y = column_or_1d(y, warn=True)\n"
     ]
    }
   ],
   "source": [
    "svr = svm.SVR(kernel='poly', degree=4, epsilon=0.2, gamma=0.4, C=1)\n",
    "svr.fit(X_train, y_train)\n",
    "y_pred = svr.predict(X_test)\n",
    "print(mean_squared_error(y_test, y_pred), r2_score(y_test, y_pred))"
   ]
  },
  {
   "cell_type": "code",
   "execution_count": null,
   "metadata": {},
   "outputs": [],
   "source": [
    "print( y_test)"
   ]
  }
 ],
 "metadata": {
  "kernelspec": {
   "display_name": "Python 3",
   "language": "python",
   "name": "python3"
  },
  "language_info": {
   "codemirror_mode": {
    "name": "ipython",
    "version": 3
   },
   "file_extension": ".py",
   "mimetype": "text/x-python",
   "name": "python",
   "nbconvert_exporter": "python",
   "pygments_lexer": "ipython3",
   "version": "3.7.4"
  }
 },
 "nbformat": 4,
 "nbformat_minor": 2
}
