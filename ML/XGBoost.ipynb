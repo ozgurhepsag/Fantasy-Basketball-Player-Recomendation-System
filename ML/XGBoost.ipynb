{
 "cells": [
  {
   "cell_type": "code",
   "execution_count": 10,
   "metadata": {},
   "outputs": [],
   "source": [
    "import pandas as pd\n",
    "import numpy as np\n",
    "import xgboost as xgb\n",
    "import math\n",
    "from sklearn.metrics import mean_squared_error, r2_score, make_scorer\n",
    "from sklearn import preprocessing, model_selection\n",
    "from sklearn.linear_model import LinearRegression"
   ]
  },
  {
   "cell_type": "code",
   "execution_count": 33,
   "metadata": {},
   "outputs": [
    {
     "name": "stdout",
     "output_type": "stream",
     "text": [
      "Index(['Name', 'Team', 'Home', 'PTS', 'PG', 'SG', 'F', 'C', 'PTS_AVG',\n",
      "       'MP_AVG', 'Opp'],\n",
      "      dtype='object')\n",
      "Name        object\n",
      "Team        object\n",
      "Home         int64\n",
      "PTS          int64\n",
      "PG           int64\n",
      "SG           int64\n",
      "F            int64\n",
      "C            int64\n",
      "PTS_AVG    float64\n",
      "MP_AVG     float64\n",
      "Opp         object\n",
      "dtype: object\n",
      "(28911, 11)\n",
      "                  Name Team  Home  PTS  PG  SG  F  C    PTS_AVG     MP_AVG  \\\n",
      "0         Terry Rozier  BOS     1   11   1   0  0  0   0.000000   0.000000   \n",
      "1         Kyrie Irving  BOS     1    7   1   0  0  0   0.000000   0.000000   \n",
      "2         Marcus Smart  BOS     1    7   1   0  0  0   0.000000   0.000000   \n",
      "3       Brad Wanamaker  BOS     1    2   1   0  0  0   0.000000   0.000000   \n",
      "4         Jayson Tatum  BOS     1   23   0   0  1  0   0.000000   0.000000   \n",
      "...                ...  ...   ...  ...  ..  .. .. ..        ...        ...   \n",
      "28906    Royce O'Neale  UTA     0    6   0   0  1  0   5.185185  20.322716   \n",
      "28907  Tyler Cavanaugh  UTA     0    0   0   0  1  0   0.473684   1.258421   \n",
      "28908        Ekpe Udoh  UTA     0   14   0   0  0  1   1.312500   3.639750   \n",
      "28909     Tony Bradley  UTA     0   15   0   0  0  1   0.400000   2.336000   \n",
      "28910   Derrick Favors  UTA     0    0   0   0  0  1  11.802632  23.241842   \n",
      "\n",
      "       Opp  \n",
      "0      PHI  \n",
      "1      PHI  \n",
      "2      PHI  \n",
      "3      PHI  \n",
      "4      PHI  \n",
      "...    ...  \n",
      "28906  LAC  \n",
      "28907  LAC  \n",
      "28908  LAC  \n",
      "28909  LAC  \n",
      "28910  LAC  \n",
      "\n",
      "[28911 rows x 11 columns]\n"
     ]
    }
   ],
   "source": [
    "merged_path = \"C:/Users/ozgur/Desktop/dev/Fantasy-Basketball-Player-Recomendation-System/ML/main_merged2.csv\"\n",
    "merged_df = pd.read_csv(merged_path, index_col=None, header=0)\n",
    "merged_df.drop(['Pos', 'Date',\n",
    "       'USG_perc', 'DRtg', 'ORtg', 'AST_perc', 'DRB_perc', 'ORB_perc', 'Starter',\n",
    "       'BLK_perc', 'TOV_perc', 'STL_perc', 'eFG_perc', 'MP', 'FG', 'FGA', 'PTS_AVG Last Month', 'PTS_AVG Last Week',\n",
    "               'FG_perc', '3P', '3PA', '3P_perc', 'FT', 'FTA', 'BLK Last Week', 'BLK Last Month', 'TRB_AVG', 'STL_AVG',\n",
    "       'FT_perc', 'TRB', 'STL', 'BLK', 'TOV', 'PF', 'W', 'BLK_AVG', 'FG_AVG', 'FGA_AVG', 'FG_perc_AVG', 'FG_AVG Last Week',\n",
    "       'FGA_AVG Last Week', 'FG_perc_AVG Last Week', 'FG_AVG Last Month', 'AST Last Week', 'AST Last Month', 'AST', 'AST_AVG',\n",
    "       'FGA_AVG Last Month', 'FG_perc_AVG Last Month'], axis=1, inplace=True)\n",
    "print(merged_df.columns)\n",
    "print(merged_df.dtypes)\n",
    "print(merged_df.shape)\n",
    "print(merged_df)"
   ]
  },
  {
   "cell_type": "code",
   "execution_count": 34,
   "metadata": {},
   "outputs": [],
   "source": [
    "merged_df['Team'] = pd.Categorical(merged_df['Team'])\n",
    "merged_df['Opp'] = pd.Categorical(merged_df['Opp'])\n",
    "dummies_team = pd.get_dummies(merged_df['Team'], prefix = 'Team')\n",
    "dummies_opp = pd.get_dummies(merged_df['Opp'], prefix = 'Opp')\n",
    "merged_df = pd.concat([merged_df, dummies_team], axis=1)\n",
    "merged_df = pd.concat([merged_df, dummies_opp], axis=1)"
   ]
  },
  {
   "cell_type": "code",
   "execution_count": null,
   "metadata": {},
   "outputs": [],
   "source": [
    "merged_df['Name'] = pd.Categorical(merged_df['Name'])\n",
    "dummies_name = pd.get_dummies(merged_df['Name'], prefix = '')\n",
    "merged_df = pd.concat([merged_df, dummies_name], axis=1)\n",
    "merged_df"
   ]
  },
  {
   "cell_type": "code",
   "execution_count": 35,
   "metadata": {},
   "outputs": [],
   "source": [
    "train = merged_df.loc[1609:15000]\n",
    "test = merged_df.loc[15000:15500]\n",
    "X_train = train.drop(['PTS', 'Name', 'Team', 'Opp'], 1)\n",
    "y_train = train[['PTS']]\n",
    "X_test = test.drop(['PTS', 'Name', 'Team', 'Opp'], 1)\n",
    "y_test = test[['PTS']]"
   ]
  },
  {
   "cell_type": "code",
   "execution_count": 36,
   "metadata": {},
   "outputs": [
    {
     "name": "stdout",
     "output_type": "stream",
     "text": [
      "34.43713702867598 0.5996106130394675\n"
     ]
    }
   ],
   "source": [
    "lm = LinearRegression()\n",
    "lm.fit(X_train, y_train)\n",
    "y_pred = lm.predict(X_test)\n",
    "print(mean_squared_error(y_test, y_pred), r2_score(y_test, y_pred))"
   ]
  },
  {
   "cell_type": "code",
   "execution_count": 18,
   "metadata": {},
   "outputs": [
    {
     "name": "stdout",
     "output_type": "stream",
     "text": [
      "[14:55:39] WARNING: C:/Jenkins/workspace/xgboost-win64_release_0.90/src/objective/regression_obj.cu:152: reg:linear is now deprecated in favor of reg:squarederror.\n",
      "33.516982886747364 0.610308945844811\n"
     ]
    }
   ],
   "source": [
    "bst = xgb.XGBRegressor(alpha=10, max_depth=6, n_estimators=50, learning_rate=0.1)\n",
    "bst.fit(X_train, y_train)\n",
    "y_pred = bst.predict(X_test)\n",
    "print(mean_squared_error(y_test, y_pred), r2_score(y_test, y_pred))"
   ]
  }
 ],
 "metadata": {
  "kernelspec": {
   "display_name": "Python 3",
   "language": "python",
   "name": "python3"
  },
  "language_info": {
   "codemirror_mode": {
    "name": "ipython",
    "version": 3
   },
   "file_extension": ".py",
   "mimetype": "text/x-python",
   "name": "python",
   "nbconvert_exporter": "python",
   "pygments_lexer": "ipython3",
   "version": "3.7.4"
  }
 },
 "nbformat": 4,
 "nbformat_minor": 2
}
